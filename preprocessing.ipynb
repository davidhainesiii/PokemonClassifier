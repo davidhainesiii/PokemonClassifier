{
 "cells": [
  {
   "cell_type": "code",
   "execution_count": null,
   "metadata": {},
   "outputs": [],
   "source": [
    "import os\n",
    "import csv\n",
    "import pandas as pd\n",
    "import numpy as np\n",
    "import matplotlib.pyplot as plt\n",
    "import scipy\n",
    "from keras.preprocessing.image import ImageDataGenerator, array_to_img, img_to_array, load_img\n",
    "from sklearn.model_selection import train_test_split"
   ]
  },
  {
   "cell_type": "code",
   "execution_count": null,
   "metadata": {},
   "outputs": [],
   "source": [
    "import keras\n",
    "from keras.applications.densenet import DenseNet121\n",
    "from keras.layers import Dense, Conv2D, Flatten, MaxPooling2D, Dropout, Activation\n",
    "from keras.models import Sequential\n",
    "from keras.utils import to_categorical"
   ]
  },
  {
   "cell_type": "code",
   "execution_count": null,
   "metadata": {},
   "outputs": [],
   "source": [
    "data = pd.read_csv('./df_final.csv')\n",
    "\n",
    "#data = data.drop(['ID','Total', 'HP', 'Attack', 'Defense','Sp. Atk','Sp. Def',\n",
    "#                  'Speed', 'Generation', 'Legendary'], axis='columns')"
   ]
  },
  {
   "cell_type": "code",
   "execution_count": null,
   "metadata": {},
   "outputs": [],
   "source": [
    "data.to_csv('df_final.csv')"
   ]
  },
  {
   "cell_type": "code",
   "execution_count": null,
   "metadata": {},
   "outputs": [],
   "source": [
    "len(manypoke)"
   ]
  },
  {
   "cell_type": "code",
   "execution_count": null,
   "metadata": {},
   "outputs": [],
   "source": [
    "bug['Type1'] = \"Bug\"\n",
    "grass['Type1'] = \"Grass\"\n",
    "fire['Type1'] = \"Fire\"\n",
    "water['Type1'] = \"Water\"\n",
    "normal['Type1'] = \"Normal\"\n",
    "poison['Type1'] = \"Poison\"\n",
    "ele['Type1'] = \"Electric\"\n",
    "ground['Type1'] = \"Ground\"\n",
    "fairy['Type1'] = \"Fairy\"\n",
    "fight['Type1'] = \"Fight\"\n",
    "psy['Type1'] = \"Psychic\"\n",
    "rock['Type1'] = \"Rock\"\n",
    "ghost['Type1'] = \"Ghost\"\n",
    "ice['Type1'] = \"Ice\"\n",
    "drag['Type1'] = \"Dragon\"\n",
    "dark['Type1'] = \"Dark\"\n",
    "steel['Type1'] = \"Steel\"\n",
    "fly['Type1'] = \"Flying\""
   ]
  },
  {
   "cell_type": "code",
   "execution_count": null,
   "metadata": {},
   "outputs": [],
   "source": [
    "data.append([bug, grass, fire, water, normal, poison, ele, ground, fairy, fight, psy, rock, ghost, ice, drag, dark, steel, fly], sort=True)"
   ]
  },
  {
   "cell_type": "markdown",
   "metadata": {},
   "source": [
    "----"
   ]
  },
  {
   "cell_type": "code",
   "execution_count": null,
   "metadata": {},
   "outputs": [],
   "source": [
    "mask = np.random.rand(len(data)) < 0.8"
   ]
  },
  {
   "cell_type": "code",
   "execution_count": null,
   "metadata": {},
   "outputs": [],
   "source": [
    "train = data[mask].reset_index(drop=True)\n",
    "test = data[~mask].reset_index(drop=True)"
   ]
  },
  {
   "cell_type": "code",
   "execution_count": null,
   "metadata": {},
   "outputs": [],
   "source": [
    "validmask = np.random.rand(len(train)) < 0.8\n",
    "valid = train[~validmask].reset_index(drop=True)\n",
    "train = train[validmask].reset_index(drop=True)"
   ]
  },
  {
   "cell_type": "code",
   "execution_count": null,
   "metadata": {},
   "outputs": [],
   "source": [
    "train.index"
   ]
  },
  {
   "cell_type": "code",
   "execution_count": null,
   "metadata": {},
   "outputs": [],
   "source": [
    "test.index"
   ]
  },
  {
   "cell_type": "code",
   "execution_count": null,
   "metadata": {},
   "outputs": [],
   "source": [
    "len(train)"
   ]
  },
  {
   "cell_type": "code",
   "execution_count": null,
   "metadata": {},
   "outputs": [],
   "source": [
    "len(test)"
   ]
  },
  {
   "cell_type": "code",
   "execution_count": null,
   "metadata": {},
   "outputs": [],
   "source": [
    "gen = ImageDataGenerator(vertical_flip=True, validation_split=0.2)"
   ]
  },
  {
   "cell_type": "code",
   "execution_count": null,
   "metadata": {},
   "outputs": [],
   "source": [
    "traingen = gen.flow_from_dataframe(train, \n",
    "                                   directory='./images/comp/', \n",
    "                                   x_col='fileid', \n",
    "                                   y_col='Type1',\n",
    "                                   class_mode='categorical',\n",
    "                                   target_size=(224,224),\n",
    "                                   subset='training')\n",
    "validgen = gen.flow_from_dataframe(train, \n",
    "                                   directory='./images/comp/', \n",
    "                                   x_col='fileid', \n",
    "                                   y_col='Type1',\n",
    "                                   class_mode='categorical',\n",
    "                                   target_size=(224,224),\n",
    "                                   subset='validation')"
   ]
  },
  {
   "cell_type": "code",
   "execution_count": null,
   "metadata": {},
   "outputs": [],
   "source": [
    "testdatagen = ImageDataGenerator(vertical_flip=False)\n",
    "testgen = testdatagen.flow_from_dataframe(test, directory='./images/comp/', x_col='fileid', y_col='Type1', target_size=(224,224))"
   ]
  },
  {
   "cell_type": "markdown",
   "metadata": {},
   "source": [
    "-----"
   ]
  },
  {
   "cell_type": "code",
   "execution_count": null,
   "metadata": {},
   "outputs": [],
   "source": [
    "from keras.applications.densenet import DenseNet121"
   ]
  },
  {
   "cell_type": "code",
   "execution_count": null,
   "metadata": {},
   "outputs": [],
   "source": [
    "pretrainmod = DenseNet121(weights='imagenet')"
   ]
  },
  {
   "cell_type": "code",
   "execution_count": null,
   "metadata": {},
   "outputs": [],
   "source": [
    "model = Sequential()\n",
    "model.add(Conv2D(32, kernel_size=2, padding='same', activation='relu', \n",
    "                 input_shape=(224, 224, 3)))\n",
    "model.add(Conv2D(32, kernel_size=2, activation='relu'))\n",
    "model.add(MaxPooling2D(pool_size=(2, 2)))\n",
    "model.add(Dropout(0.25))\n",
    "model.add(Conv2D(64, kernel_size=2, activation='relu'))\n",
    "model.add(Conv2D(64, kernel_size=2, activation='relu'))\n",
    "model.add(MaxPooling2D(pool_size=(2, 2)))\n",
    "model.add(Dropout(0.25))\n",
    "model.add(Flatten())\n",
    "\n",
    "model.add(Dense(512))\n",
    "model.add(Activation('relu'))\n",
    "model.add(Dropout(0.5))\n",
    "\n",
    "model.add(Dense(18, activation='softmax'))"
   ]
  },
  {
   "cell_type": "code",
   "execution_count": null,
   "metadata": {},
   "outputs": [],
   "source": [
    "model.compile(optimizer='adam', loss='categorical_crossentropy')"
   ]
  },
  {
   "cell_type": "code",
   "execution_count": null,
   "metadata": {},
   "outputs": [],
   "source": [
    "STEP_SIZE_TRAIN=traingen.n//traingen.batch_size\n",
    "STEP_SIZE_VALID=validgen.n//validgen.batch_size\n",
    "step_size_test=testgen.n//testgen.batch_size"
   ]
  },
  {
   "cell_type": "code",
   "execution_count": null,
   "metadata": {
    "scrolled": true
   },
   "outputs": [],
   "source": [
    "model.fit_generator(generator=traingen,\n",
    "                    epochs=10,\n",
    "                    steps_per_epoch=STEP_SIZE_TRAIN,\n",
    "                   validation_data=validgen,\n",
    "                   validation_steps=STEP_SIZE_VALID)"
   ]
  },
  {
   "cell_type": "code",
   "execution_count": null,
   "metadata": {},
   "outputs": [],
   "source": [
    "pretrainmod.compile(optimizer='adam', loss='categorical_crossentropy')"
   ]
  },
  {
   "cell_type": "code",
   "execution_count": null,
   "metadata": {},
   "outputs": [],
   "source": [
    "pretrainmod.fit_generator(generator=traingen,\n",
    "                    epochs=10,\n",
    "                    steps_per_epoch=STEP_SIZE_TRAIN,\n",
    "                   validation_data=validgen,\n",
    "                   validation_steps=STEP_SIZE_VALID)"
   ]
  },
  {
   "cell_type": "code",
   "execution_count": null,
   "metadata": {},
   "outputs": [],
   "source": [
    "testgen.reset()\n",
    "pred = model.predict_generator(testgen, steps = step_size_test, verbose=1)"
   ]
  },
  {
   "cell_type": "code",
   "execution_count": null,
   "metadata": {},
   "outputs": [],
   "source": [
    "pred[2]"
   ]
  },
  {
   "cell_type": "code",
   "execution_count": null,
   "metadata": {},
   "outputs": [],
   "source": [
    "predicted_class_indices=np.argmax(pred,axis=1)"
   ]
  },
  {
   "cell_type": "code",
   "execution_count": null,
   "metadata": {},
   "outputs": [],
   "source": [
    "predicted_class_indices"
   ]
  },
  {
   "cell_type": "code",
   "execution_count": null,
   "metadata": {},
   "outputs": [],
   "source": [
    "labels = (testgen.class_indices)\n",
    "print(labels)"
   ]
  },
  {
   "cell_type": "code",
   "execution_count": null,
   "metadata": {},
   "outputs": [],
   "source": [
    "labels = dict((v,k) for k,v in labels.items())\n",
    "print(labels)"
   ]
  },
  {
   "cell_type": "code",
   "execution_count": null,
   "metadata": {},
   "outputs": [],
   "source": [
    "predictions = [labels[k] for k in predicted_class_indices]\n",
    "print(predictions[-1])"
   ]
  },
  {
   "cell_type": "code",
   "execution_count": null,
   "metadata": {},
   "outputs": [],
   "source": [
    "len(predictions)"
   ]
  },
  {
   "cell_type": "code",
   "execution_count": null,
   "metadata": {},
   "outputs": [],
   "source": [
    "len(testgen.filenames)"
   ]
  },
  {
   "cell_type": "code",
   "execution_count": null,
   "metadata": {},
   "outputs": [],
   "source": [
    "filenames=testgen.filenames\n",
    "results=pd.DataFrame({\"Filename\":filenames,\n",
    "                      \"Predictions\":predictions})\n",
    "results.to_csv(\"results.csv\",index=False)"
   ]
  },
  {
   "cell_type": "code",
   "execution_count": null,
   "metadata": {},
   "outputs": [],
   "source": [
    "results.groupby"
   ]
  },
  {
   "cell_type": "code",
   "execution_count": null,
   "metadata": {},
   "outputs": [],
   "source": [
    "data.head()"
   ]
  },
  {
   "cell_type": "code",
   "execution_count": null,
   "metadata": {},
   "outputs": [],
   "source": [
    "data.info()"
   ]
  },
  {
   "cell_type": "markdown",
   "metadata": {},
   "source": []
  },
  {
   "cell_type": "code",
   "execution_count": null,
   "metadata": {},
   "outputs": [],
   "source": [
    "bug = os.listdir('images/scraped/bug/resize/')\n",
    "grass = os.listdir('images/scraped/grass/resize/')\n",
    "fire = os.listdir('images/scraped/fire/resize/')\n",
    "water = os.listdir('images/scraped/water/resize/')\n",
    "normal = os.listdir('images/scraped/normal/resize/')\n",
    "poison = os.listdir('images/scraped/poison/resize/')\n",
    "ele = os.listdir('images/scraped/ele/resize/')\n",
    "ground = os.listdir('images/scraped/ground/resize/')\n",
    "fairy = os.listdir('images/scraped/fairy/resize/')\n",
    "fight = os.listdir('images/scraped/fight/resize/')\n",
    "psy = os.listdir('images/scraped/psy/resize/')\n",
    "rock = os.listdir('images/scraped/rock/resize/')\n",
    "ghost = os.listdir('images/scraped/ghost/resize/')\n",
    "ice = os.listdir('images/scraped/ice/resize/')\n",
    "drag = os.listdir('images/scraped/dragon/resize/')\n",
    "dark = os.listdir('images/scraped/dark/resize/')\n",
    "steel = os.listdir('images/scraped/steel/resize/')\n",
    "fly = os.listdir('images/scraped/fly/resize/')"
   ]
  },
  {
   "cell_type": "code",
   "execution_count": null,
   "metadata": {},
   "outputs": [],
   "source": [
    "bug = pd.DataFrame(bug, columns=['fileid'])\n",
    "grass = pd.DataFrame(grass, columns=['fileid'])\n",
    "fire = pd.DataFrame(fire, columns=['fileid'])\n",
    "water = pd.DataFrame(water, columns=['fileid'])\n",
    "normal = pd.DataFrame(normal, columns=['fileid'])\n",
    "poison = pd.DataFrame(poison, columns=['fileid'])\n",
    "ele = pd.DataFrame(ele, columns=['fileid'])\n",
    "ground = pd.DataFrame(ground, columns=['fileid'])\n",
    "fairy = pd.DataFrame(fairy, columns=['fileid'])\n",
    "fight = pd.DataFrame(fight, columns=['fileid'])\n",
    "psy = pd.DataFrame(psy, columns=['fileid'])\n",
    "rock = pd.DataFrame(rock, columns=['fileid'])\n",
    "ghost = pd.DataFrame(ghost, columns=['fileid'])\n",
    "ice = pd.DataFrame(ice, columns=['fileid'])\n",
    "drag = pd.DataFrame(drag, columns=['fileid'])\n",
    "dark = pd.DataFrame(dark, columns=['fileid'])\n",
    "steel = pd.DataFrame(steel, columns=['fileid'])\n",
    "fly = pd.DataFrame(fly, columns=['fileid'])"
   ]
  },
  {
   "cell_type": "code",
   "execution_count": null,
   "metadata": {},
   "outputs": [],
   "source": [
    "manypoke = os.listdir('images/comp/manypoke/resize')"
   ]
  }
 ],
 "metadata": {
  "kernelspec": {
   "display_name": "Python 3",
   "language": "python",
   "name": "python3"
  },
  "language_info": {
   "codemirror_mode": {
    "name": "ipython",
    "version": 3
   },
   "file_extension": ".py",
   "mimetype": "text/x-python",
   "name": "python",
   "nbconvert_exporter": "python",
   "pygments_lexer": "ipython3",
   "version": "3.6.5"
  }
 },
 "nbformat": 4,
 "nbformat_minor": 2
}
