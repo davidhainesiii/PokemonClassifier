{
 "cells": [
  {
   "cell_type": "code",
   "execution_count": 1,
   "metadata": {},
   "outputs": [
    {
     "name": "stderr",
     "output_type": "stream",
     "text": [
      "/anaconda3/lib/python3.6/site-packages/h5py/__init__.py:36: FutureWarning: Conversion of the second argument of issubdtype from `float` to `np.floating` is deprecated. In future, it will be treated as `np.float64 == np.dtype(float).type`.\n",
      "  from ._conv import register_converters as _register_converters\n",
      "Using TensorFlow backend.\n"
     ]
    }
   ],
   "source": [
    "import os\n",
    "import csv\n",
    "import pandas as pd\n",
    "import numpy as np\n",
    "import matplotlib.pyplot as plt\n",
    "import scipy\n",
    "from keras.preprocessing.image import ImageDataGenerator, array_to_img, img_to_array, load_img\n",
    "from sklearn.model_selection import train_test_split"
   ]
  },
  {
   "cell_type": "code",
   "execution_count": 2,
   "metadata": {},
   "outputs": [],
   "source": [
    "import keras\n",
    "from keras.applications.resnet50 import ResNet50\n",
    "from keras.layers import Dense, Conv2D, Flatten, MaxPooling2D, Dropout, Activation\n",
    "from keras.models import Sequential\n",
    "from keras.utils import to_categorical"
   ]
  },
  {
   "cell_type": "code",
   "execution_count": 3,
   "metadata": {},
   "outputs": [],
   "source": [
    "data = pd.read_csv('./pokemon_aug.csv')\n",
    "data = data.drop(['Total', 'HP', 'Attack', 'Defense','Sp. Atk','Sp. Def',\n",
    "                  'Speed', 'Generation', 'Legendary'], axis='columns')"
   ]
  },
  {
   "cell_type": "code",
   "execution_count": 23,
   "metadata": {},
   "outputs": [
    {
     "data": {
      "text/plain": [
       "array(['Grass', 'Fire', 'Water', 'Bug', 'Normal', 'Poison', 'Electric',\n",
       "       'Ground', 'Fairy', 'Fighting', 'Psychic', 'Rock', 'Ghost', 'Ice',\n",
       "       'Dragon', 'Dark', 'Steel', 'Flying'], dtype=object)"
      ]
     },
     "execution_count": 23,
     "metadata": {},
     "output_type": "execute_result"
    }
   ],
   "source": [
    "data.Type1.unique()"
   ]
  },
  {
   "cell_type": "code",
   "execution_count": null,
   "metadata": {},
   "outputs": [],
   "source": []
  },
  {
   "cell_type": "code",
   "execution_count": 25,
   "metadata": {},
   "outputs": [],
   "source": [
    "bug = os.listdir('images/scraped/bug/')"
   ]
  },
  {
   "cell_type": "code",
   "execution_count": 28,
   "metadata": {},
   "outputs": [],
   "source": [
    "bug = pd.DataFrame(scraped, columns=['filename'])"
   ]
  },
  {
   "cell_type": "code",
   "execution_count": 31,
   "metadata": {},
   "outputs": [],
   "source": [
    "bug['type'] = \"Bug\""
   ]
  },
  {
   "cell_type": "code",
   "execution_count": 33,
   "metadata": {},
   "outputs": [
    {
     "data": {
      "text/html": [
       "<div>\n",
       "<style scoped>\n",
       "    .dataframe tbody tr th:only-of-type {\n",
       "        vertical-align: middle;\n",
       "    }\n",
       "\n",
       "    .dataframe tbody tr th {\n",
       "        vertical-align: top;\n",
       "    }\n",
       "\n",
       "    .dataframe thead th {\n",
       "        text-align: right;\n",
       "    }\n",
       "</style>\n",
       "<table border=\"1\" class=\"dataframe\">\n",
       "  <thead>\n",
       "    <tr style=\"text-align: right;\">\n",
       "      <th></th>\n",
       "      <th>filename</th>\n",
       "      <th>type</th>\n",
       "    </tr>\n",
       "  </thead>\n",
       "  <tbody>\n",
       "    <tr>\n",
       "      <th>59</th>\n",
       "      <td>bug1-30.jpg</td>\n",
       "      <td>Bug</td>\n",
       "    </tr>\n",
       "    <tr>\n",
       "      <th>60</th>\n",
       "      <td>bug1-24.jpg</td>\n",
       "      <td>Bug</td>\n",
       "    </tr>\n",
       "    <tr>\n",
       "      <th>61</th>\n",
       "      <td>bug1-19.jpg</td>\n",
       "      <td>Bug</td>\n",
       "    </tr>\n",
       "    <tr>\n",
       "      <th>62</th>\n",
       "      <td>bug1-25.jpg</td>\n",
       "      <td>Bug</td>\n",
       "    </tr>\n",
       "    <tr>\n",
       "      <th>63</th>\n",
       "      <td>bug1-31.png</td>\n",
       "      <td>Bug</td>\n",
       "    </tr>\n",
       "  </tbody>\n",
       "</table>\n",
       "</div>"
      ],
      "text/plain": [
       "       filename type\n",
       "59  bug1-30.jpg  Bug\n",
       "60  bug1-24.jpg  Bug\n",
       "61  bug1-19.jpg  Bug\n",
       "62  bug1-25.jpg  Bug\n",
       "63  bug1-31.png  Bug"
      ]
     },
     "execution_count": 33,
     "metadata": {},
     "output_type": "execute_result"
    }
   ],
   "source": [
    "bug.tail()"
   ]
  },
  {
   "cell_type": "code",
   "execution_count": 34,
   "metadata": {},
   "outputs": [],
   "source": [
    "grass = os.listdir('images/scraped/grass/')\n",
    "fire = os.listdir('images/scraped/fire/')\n",
    "water = os.listdir('images/scraped/water/')\n",
    "normal = os.listdir('images/scraped/normal/')\n",
    "poison = os.listdir('images/scraped/poison/')\n",
    "ele = os.listdir('images/scraped/ele/')\n",
    "ground = os.listdir('images/scraped/ground/')\n",
    "fairy = os.listdir('images/scraped/fairy/')\n",
    "fight = os.listdir('images/scraped/fight/')\n",
    "psy = os.listdir('images/scraped/psy/')\n",
    "rock = os.listdir('images/scraped/rock/')\n",
    "ghost = os.listdir('images/scraped/ghost/')\n",
    "ice = os.listdir('images/scraped/ice/')\n",
    "drag = os.listdir('images/scraped/dragon/')\n",
    "dark = os.listdir('images/scraped/dark/')\n",
    "steel = os.listdir('images/scraped/steel/')\n",
    "fly = os.listdir('images/scraped/fly/')"
   ]
  },
  {
   "cell_type": "code",
   "execution_count": 35,
   "metadata": {},
   "outputs": [],
   "source": [
    "grass = pd.DataFrame(grass, columns=['filename'])\n",
    "fire = pd.DataFrame(fire, columns=['filename'])\n",
    "water = pd.DataFrame(water, columns=['filename'])\n",
    "normal = pd.DataFrame(normal, columns=['filename'])\n",
    "poison = pd.DataFrame(poison, columns=['filename'])\n",
    "ele = pd.DataFrame(ele, columns=['filename'])\n",
    "ground = pd.DataFrame(ground, columns=['filename'])\n",
    "fairy = pd.DataFrame(fairy, columns=['filename'])\n",
    "fight = pd.DataFrame(fight, columns=['filename'])\n",
    "psy = pd.DataFrame(psy, columns=['filename'])\n",
    "rock = pd.DataFrame(rock, columns=['filename'])\n",
    "ghost = pd.DataFrame(ghost, columns=['filename'])\n",
    "ice = pd.DataFrame(ice, columns=['filename'])\n",
    "drag = pd.DataFrame(drag, columns=['filename'])\n",
    "dark = pd.DataFrame(dark, columns=['filename'])\n",
    "steel = pd.DataFrame(steel, columns=['filename'])\n",
    "fly = pd.DataFrame(fly, columns=['filename'])"
   ]
  },
  {
   "cell_type": "code",
   "execution_count": 36,
   "metadata": {},
   "outputs": [],
   "source": [
    "grass['Type1'] = \"Grass\"\n",
    "fire['Type1'] = \"Fire\"\n",
    "water['Type1'] = \"Water\"\n",
    "normal['Type1'] = \"Normal\"\n",
    "poison['Type1'] = \"Poison\"\n",
    "ele['Type1'] = \"Electric\"\n",
    "ground['Type1'] = \"Ground\"\n",
    "fairy['Type1'] = \"Fairy\"\n",
    "fight['Type1'] = \"Fight\"\n",
    "psy['Type1'] = \"Psychic\"\n",
    "rock['Type1'] = \"Rock\"\n",
    "ghost['Type1'] = \"Ghost\"\n",
    "ice['Type1'] = \"Ice\"\n",
    "drag['Type1'] = \"Dragon\"\n",
    "dark['Type1'] = \"Dark\"\n",
    "steel['Type1'] = \"Steel\"\n",
    "fly['Type1'] = \"Flying\""
   ]
  },
  {
   "cell_type": "code",
   "execution_count": 37,
   "metadata": {},
   "outputs": [
    {
     "name": "stdout",
     "output_type": "stream",
     "text": [
      "<class 'pandas.core.frame.DataFrame'>\n",
      "RangeIndex: 79 entries, 0 to 78\n",
      "Data columns (total 2 columns):\n",
      "filename    79 non-null object\n",
      "Type1       79 non-null object\n",
      "dtypes: object(2)\n",
      "memory usage: 1.3+ KB\n"
     ]
    }
   ],
   "source": []
  },
  {
   "cell_type": "markdown",
   "metadata": {},
   "source": [
    "----"
   ]
  },
  {
   "cell_type": "code",
   "execution_count": null,
   "metadata": {},
   "outputs": [],
   "source": [
    "mask = np.random.rand(len(data)) < 0.8"
   ]
  },
  {
   "cell_type": "code",
   "execution_count": null,
   "metadata": {},
   "outputs": [],
   "source": [
    "train = data[mask].reset_index()\n",
    "test = data[~mask].reset_index()"
   ]
  },
  {
   "cell_type": "code",
   "execution_count": null,
   "metadata": {},
   "outputs": [],
   "source": [
    "gen = ImageDataGenerator(vertical_flip=True, validation_split=0.2)"
   ]
  },
  {
   "cell_type": "code",
   "execution_count": null,
   "metadata": {},
   "outputs": [],
   "source": [
    "traingen = gen.flow_from_dataframe(train, directory='./images/models/', x_col='fileid', y_col='Type1',\n",
    "                                   class_mode='categorical', subset='training', batch_size=5)\n",
    "validgen = gen.flow_from_dataframe(train, directory='./images/models/', x_col='fileid', y_col='Type1',\n",
    "                                   class_mode='categorical', subset='validation', batch_size=5)"
   ]
  },
  {
   "cell_type": "code",
   "execution_count": null,
   "metadata": {},
   "outputs": [],
   "source": [
    "testdatagen = ImageDataGenerator(vertical_flip=False)\n",
    "testgen = testdatagen.flow_from_dataframe(test, directory='./images/models', x_col='fileid', y_col='Type1', batch_size=5)"
   ]
  },
  {
   "cell_type": "code",
   "execution_count": null,
   "metadata": {},
   "outputs": [],
   "source": [
    "model = Sequential()\n",
    "model.add(Conv2D(32, kernel_size=2, padding='same', activation='relu', \n",
    "                 input_shape=(256, 256, 3)))\n",
    "model.add(Conv2D(32, kernel_size=2, activation='relu'))\n",
    "model.add(MaxPooling2D(pool_size=(2, 2)))\n",
    "model.add(Dropout(0.25))\n",
    "model.add(Conv2D(64, kernel_size=2, activation='relu'))\n",
    "model.add(Conv2D(64, kernel_size=2, activation='relu'))\n",
    "model.add(MaxPooling2D(pool_size=(2, 2)))\n",
    "model.add(Dropout(0.25))\n",
    "model.add(Flatten())\n",
    "\n",
    "model.add(Dense(512))\n",
    "model.add(Activation('relu'))\n",
    "model.add(Dropout(0.5))\n",
    "\n",
    "model.add(Dense(18, activation='softmax'))"
   ]
  },
  {
   "cell_type": "code",
   "execution_count": null,
   "metadata": {},
   "outputs": [],
   "source": [
    "model.compile(optimizer='adam', loss='categorical_crossentropy')"
   ]
  },
  {
   "cell_type": "code",
   "execution_count": null,
   "metadata": {},
   "outputs": [],
   "source": [
    "STEP_SIZE_TRAIN=traingen.n//traingen.batch_size\n",
    "STEP_SIZE_VALID=validgen.n//validgen.batch_size\n",
    "step_size_test=testgen.n//testgen.batch_size"
   ]
  },
  {
   "cell_type": "code",
   "execution_count": null,
   "metadata": {},
   "outputs": [],
   "source": [
    "model.fit_generator(generator=traingen,\n",
    "                    epochs=10,\n",
    "                    steps_per_epoch=STEP_SIZE_TRAIN,\n",
    "                   validation_data=validgen,\n",
    "                   validation_steps=STEP_SIZE_VALID)"
   ]
  },
  {
   "cell_type": "code",
   "execution_count": null,
   "metadata": {},
   "outputs": [],
   "source": [
    "testgen.reset()\n",
    "pred = model.predict_generator(testgen, steps = step_size_test, verbose=1)"
   ]
  },
  {
   "cell_type": "code",
   "execution_count": null,
   "metadata": {},
   "outputs": [],
   "source": [
    "pred[2]"
   ]
  },
  {
   "cell_type": "code",
   "execution_count": null,
   "metadata": {},
   "outputs": [],
   "source": [
    "predicted_class_indices=np.argmax(pred,axis=1)"
   ]
  },
  {
   "cell_type": "code",
   "execution_count": null,
   "metadata": {},
   "outputs": [],
   "source": [
    "predicted_class_indices"
   ]
  },
  {
   "cell_type": "code",
   "execution_count": null,
   "metadata": {},
   "outputs": [],
   "source": [
    "labels = (testgen.class_indices)\n",
    "print(labels)"
   ]
  },
  {
   "cell_type": "code",
   "execution_count": null,
   "metadata": {},
   "outputs": [],
   "source": [
    "labels = dict((v,k) for k,v in labels.items())\n",
    "print(labels)"
   ]
  },
  {
   "cell_type": "code",
   "execution_count": null,
   "metadata": {},
   "outputs": [],
   "source": [
    "predictions = [labels[k] for k in predicted_class_indices]\n",
    "print(predictions[-1])"
   ]
  },
  {
   "cell_type": "code",
   "execution_count": null,
   "metadata": {},
   "outputs": [],
   "source": [
    "len(predictions)"
   ]
  },
  {
   "cell_type": "code",
   "execution_count": null,
   "metadata": {},
   "outputs": [],
   "source": [
    "len(testgen.filenames)"
   ]
  },
  {
   "cell_type": "code",
   "execution_count": null,
   "metadata": {},
   "outputs": [],
   "source": [
    "filenames=testgen.filenames\n",
    "results=pd.DataFrame({\"Filename\":filenames,\n",
    "                      \"Predictions\":predictions})\n",
    "results.to_csv(\"results.csv\",index=False)"
   ]
  },
  {
   "cell_type": "code",
   "execution_count": null,
   "metadata": {},
   "outputs": [],
   "source": [
    "results.groupby"
   ]
  },
  {
   "cell_type": "code",
   "execution_count": null,
   "metadata": {},
   "outputs": [],
   "source": [
    "data.head()"
   ]
  },
  {
   "cell_type": "code",
   "execution_count": null,
   "metadata": {},
   "outputs": [],
   "source": [
    "data.info()"
   ]
  },
  {
   "cell_type": "markdown",
   "metadata": {},
   "source": []
  }
 ],
 "metadata": {
  "kernelspec": {
   "display_name": "Python 3",
   "language": "python",
   "name": "python3"
  },
  "language_info": {
   "codemirror_mode": {
    "name": "ipython",
    "version": 3
   },
   "file_extension": ".py",
   "mimetype": "text/x-python",
   "name": "python",
   "nbconvert_exporter": "python",
   "pygments_lexer": "ipython3",
   "version": "3.6.5"
  }
 },
 "nbformat": 4,
 "nbformat_minor": 2
}
