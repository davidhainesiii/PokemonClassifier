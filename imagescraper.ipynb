{
 "cells": [
  {
   "cell_type": "code",
   "execution_count": 30,
   "metadata": {},
   "outputs": [],
   "source": [
    "import requests\n",
    "import re\n",
    "import urllib\n",
    "from PIL import Image\n",
    "from io import BytesIO\n",
    "import matplotlib.pyplot as plt\n",
    "from bs4 import BeautifulSoup\n",
    "import pprint\n",
    "import shutil"
   ]
  },
  {
   "cell_type": "code",
   "execution_count": 1,
   "metadata": {},
   "outputs": [],
   "source": [
    "from azure.cognitiveservices.search.imagesearch import ImageSearchAPI\n",
    "from msrest.authentication import CognitiveServicesCredentials"
   ]
  },
  {
   "cell_type": "code",
   "execution_count": null,
   "metadata": {},
   "outputs": [],
   "source": []
  },
  {
   "cell_type": "code",
   "execution_count": 157,
   "metadata": {},
   "outputs": [],
   "source": [
    "subscription_key = \"7276008dbec5468aa270174dc73cd8c2\"\n",
    "client = ImageSearchAPI(CognitiveServicesCredentials(subscription_key))"
   ]
  },
  {
   "cell_type": "code",
   "execution_count": 177,
   "metadata": {},
   "outputs": [],
   "source": [
    "search_term = \"flying-type pokemon\""
   ]
  },
  {
   "cell_type": "code",
   "execution_count": 178,
   "metadata": {},
   "outputs": [],
   "source": [
    "image_results = client.images.search(query=search_term)"
   ]
  },
  {
   "cell_type": "code",
   "execution_count": 117,
   "metadata": {},
   "outputs": [
    {
     "name": "stdout",
     "output_type": "stream",
     "text": [
      "Total number of images returned: 35\n",
      "First image thumbnail url: https://tse1.mm.bing.net/th?id=OIP.au607y1OaIDcETsUxym0XQHaFj&pid=Api\n",
      "First image content url: https://i.ytimg.com/vi/uPpbn4Y9GFI/hqdefault.jpg\n"
     ]
    }
   ],
   "source": [
    "if image_results.value:\n",
    "    first_image_result = image_results.value[0]\n",
    "    print(\"Total number of images returned: {}\".format(len(image_results.value)))\n",
    "    print(\"First image thumbnail url: {}\".format(first_image_result.thumbnail_url))\n",
    "    print(\"First image content url: {}\".format(first_image_result.content_url))\n",
    "else:\n",
    "    print(\"No image results returned!\")"
   ]
  },
  {
   "cell_type": "code",
   "execution_count": 179,
   "metadata": {},
   "outputs": [
    {
     "name": "stderr",
     "output_type": "stream",
     "text": [
      "/anaconda3/lib/python3.6/socket.py:657: ResourceWarning: unclosed <socket.socket fd=75, family=AddressFamily.AF_INET, type=SocketKind.SOCK_STREAM, proto=6, laddr=('10.0.0.162', 57775), raddr=('208.86.159.64', 443)>\n",
      "  self._sock = None\n"
     ]
    },
    {
     "name": "stdout",
     "output_type": "stream",
     "text": [
      "https://qph.fs.quoracdn.net/main-qimg-9067db271b24d08d5de553b2cb05fc73\n"
     ]
    }
   ],
   "source": [
    "for i in range(0, len(image_results.value)-1):\n",
    "    url = image_results.value[i].content_url\n",
    "    ext = re.findall(r'\\.[a-z]+$', url)\n",
    "    r = requests.get(image_results.value[i].content_url)\n",
    "    try:\n",
    "        fname = str(\"fly1-\"+str(i)+ext[0])\n",
    "        if r.status_code == 200:\n",
    "            with open(fname, 'wb') as f:\n",
    "                shutil.copyfileobj(BytesIO(r.content), f)\n",
    "        else:\n",
    "            pass\n",
    "    except IndexError:\n",
    "        print(url)\n",
    "    except ConnectionError:\n",
    "        print(url)"
   ]
  },
  {
   "cell_type": "code",
   "execution_count": null,
   "metadata": {},
   "outputs": [],
   "source": []
  }
 ],
 "metadata": {
  "kernelspec": {
   "display_name": "Python 3",
   "language": "python",
   "name": "python3"
  },
  "language_info": {
   "codemirror_mode": {
    "name": "ipython",
    "version": 3
   },
   "file_extension": ".py",
   "mimetype": "text/x-python",
   "name": "python",
   "nbconvert_exporter": "python",
   "pygments_lexer": "ipython3",
   "version": "3.6.5"
  }
 },
 "nbformat": 4,
 "nbformat_minor": 2
}
