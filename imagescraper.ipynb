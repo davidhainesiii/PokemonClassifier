{
 "cells": [
  {
   "cell_type": "code",
   "execution_count": null,
   "metadata": {},
   "outputs": [],
   "source": [
    "import os\n",
    "import requests\n",
    "import re\n",
    "import urllib\n",
    "from PIL import Image\n",
    "from io import BytesIO\n",
    "import matplotlib.pyplot as plt\n",
    "from bs4 import BeautifulSoup\n",
    "import pprint\n",
    "import shutil\n",
    "import pandas as pd\n",
    "import numpy as np"
   ]
  },
  {
   "cell_type": "code",
   "execution_count": null,
   "metadata": {},
   "outputs": [],
   "source": [
    "from azure.cognitiveservices.search.imagesearch import ImageSearchAPI\n",
    "from msrest.authentication import CognitiveServicesCredentials"
   ]
  },
  {
   "cell_type": "code",
   "execution_count": null,
   "metadata": {},
   "outputs": [],
   "source": [
    "data = pd.read_csv('/Users/davidhaines/DataScience/repos/capstone/pokemon_aug.csv')"
   ]
  },
  {
   "cell_type": "code",
   "execution_count": null,
   "metadata": {},
   "outputs": [],
   "source": [
    "data.head()"
   ]
  },
  {
   "cell_type": "code",
   "execution_count": null,
   "metadata": {},
   "outputs": [],
   "source": [
    "subscription_key = \"*insert subscription key as string here*\"\n",
    "client = ImageSearchAPI(CognitiveServicesCredentials(subscription_key))"
   ]
  },
  {
   "cell_type": "code",
   "execution_count": null,
   "metadata": {},
   "outputs": [],
   "source": [
    "entry = {\"Type1\":data.Type1.loc[data.Name == search_term], \"fileid\":fname}"
   ]
  },
  {
   "cell_type": "code",
   "execution_count": null,
   "metadata": {},
   "outputs": [],
   "source": [
    "pd.DataFrame(entry, index=[0])"
   ]
  },
  {
   "cell_type": "code",
   "execution_count": null,
   "metadata": {},
   "outputs": [],
   "source": [
    "data.Name[0]"
   ]
  },
  {
   "cell_type": "code",
   "execution_count": null,
   "metadata": {},
   "outputs": [],
   "source": [
    "tempframe = pd.DataFrame()"
   ]
  },
  {
   "cell_type": "code",
   "execution_count": null,
   "metadata": {},
   "outputs": [],
   "source": [
    "def pokefinder(search_terms):\n",
    "    for search_term in search_terms:\n",
    "        image_results = client.images.search(query=search_term)\n",
    "        for i in range(0, len(image_results.value)):\n",
    "            url = image_results.value[i].content_url\n",
    "            ext = re.findall(r'\\.[a-z]+$', url)\n",
    "            try:\n",
    "                r = requests.get(image_results.value[i].content_url)\n",
    "            except requests.exceptions.SSLError:\n",
    "                pass\n",
    "            except requests.exceptions.ConnectionError:\n",
    "                pass\n",
    "            except requests.exceptions.Timeout:\n",
    "                pass\n",
    "            try:\n",
    "                fname = str(search_term+\"-\"+str(i)+ext[0])\n",
    "                if r.status_code == 200:\n",
    "                    with open(fname, 'wb') as f:\n",
    "                        shutil.copyfileobj(BytesIO(r.content), f)\n",
    "                else:\n",
    "                    pass\n",
    "            except IndexError:\n",
    "                print(url)\n",
    "            except ConnectionError:\n",
    "                print(url)"
   ]
  },
  {
   "cell_type": "code",
   "execution_count": null,
   "metadata": {},
   "outputs": [],
   "source": [
    "filelist = os.listdir('./images/comp/manypoke/resize/')"
   ]
  },
  {
   "cell_type": "code",
   "execution_count": null,
   "metadata": {},
   "outputs": [],
   "source": [
    "namefind = re.compile(r\"(resize_)(.+)(-\\d+\\.[a-z]*)\")\n",
    "filelist[0]\n",
    "pokename = re.match(namefind, filelist[0])\n",
    "print(pokename.group(2))"
   ]
  },
  {
   "cell_type": "code",
   "execution_count": null,
   "metadata": {},
   "outputs": [],
   "source": [
    "data.Type1.loc[data.Name == pokename.group(2)].values[0]"
   ]
  },
  {
   "cell_type": "code",
   "execution_count": null,
   "metadata": {},
   "outputs": [],
   "source": [
    "namefind = re.compile(r\"(resize_)(.+)(-\\d+\\.[a-z]*)\")\n",
    "tempframe = pd.DataFrame(columns=[\"Type1\",\"fileid\"])\n",
    "for search_term in filelist:\n",
    "    try:\n",
    "        pokename = re.match(namefind, search_term)\n",
    "        typefind = data.Type1.loc[data.Name == pokename.group(2)].values[0]\n",
    "        entry = pd.DataFrame([[typefind, search_term]], columns=[\"Type1\",\"fileid\"])\n",
    "    #eframe = pd.DataFrame(entry, index=[0])\n",
    "        tempframe = tempframe.append(entry, ignore_index=True)\n",
    "        print('Appending file: '+search_term)\n",
    "    except:\n",
    "        pass\n"
   ]
  },
  {
   "cell_type": "code",
   "execution_count": null,
   "metadata": {},
   "outputs": [],
   "source": [
    "tempframe.head()"
   ]
  },
  {
   "cell_type": "code",
   "execution_count": null,
   "metadata": {},
   "outputs": [],
   "source": [
    "tempframe.to_csv('indivpoke_scraped.csv')"
   ]
  },
  {
   "cell_type": "code",
   "execution_count": null,
   "metadata": {},
   "outputs": [],
   "source": [
    "pokename = re.search(namefind, 'resize_Sunflora-10.png')"
   ]
  },
  {
   "cell_type": "code",
   "execution_count": null,
   "metadata": {},
   "outputs": [],
   "source": [
    "pokename.group(2)"
   ]
  },
  {
   "cell_type": "code",
   "execution_count": null,
   "metadata": {},
   "outputs": [],
   "source": [
    "pokefinder(resume.Name)"
   ]
  },
  {
   "cell_type": "code",
   "execution_count": null,
   "metadata": {},
   "outputs": [],
   "source": [
    "if image_results.value:\n",
    "    first_image_result = image_results.value[0]\n",
    "    print(\"Total number of images returned: {}\".format(len(image_results.value)))\n",
    "    print(\"First image thumbnail url: {}\".format(first_image_result.thumbnail_url))\n",
    "    print(\"First image content url: {}\".format(first_image_result.content_url))\n",
    "else:\n",
    "    print(\"No image results returned!\")"
   ]
  },
  {
   "cell_type": "code",
   "execution_count": null,
   "metadata": {},
   "outputs": [],
   "source": []
  }
 ],
 "metadata": {
  "kernelspec": {
   "display_name": "Python 3",
   "language": "python",
   "name": "python3"
  },
  "language_info": {
   "codemirror_mode": {
    "name": "ipython",
    "version": 3
   },
   "file_extension": ".py",
   "mimetype": "text/x-python",
   "name": "python",
   "nbconvert_exporter": "python",
   "pygments_lexer": "ipython3",
   "version": "3.6.5"
  }
 },
 "nbformat": 4,
 "nbformat_minor": 2
}
