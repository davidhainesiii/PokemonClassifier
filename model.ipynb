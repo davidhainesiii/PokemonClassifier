{
 "cells": [
  {
   "cell_type": "code",
   "execution_count": null,
   "metadata": {},
   "outputs": [],
   "source": [
    "import keras\n",
    "from keras.layers import Dense, Conv2D, Flatten\n",
    "from keras.models import Sequential, load_model\n",
    "from keras.applications.resnet50 import preprocess_input, decode_predictions\n",
    "from keras.utils import to_categorical, plot_model\n",
    "from keras.preprocessing.image import ImageDataGenerator\n",
    "import pydot"
   ]
  },
  {
   "cell_type": "code",
   "execution_count": null,
   "metadata": {},
   "outputs": [],
   "source": [
    "import pandas as pd\n",
    "import numpy as np\n",
    "import matplotlib.pyplot as plt"
   ]
  },
  {
   "cell_type": "code",
   "execution_count": null,
   "metadata": {},
   "outputs": [],
   "source": [
    "data = pd.read_csv('./df_final.csv')\n",
    "\n",
    "mask = np.random.rand(len(data)) < 0.8\n",
    "train = data[mask].reset_index(drop=True)\n",
    "test = data[~mask].reset_index(drop=True)"
   ]
  },
  {
   "cell_type": "code",
   "execution_count": null,
   "metadata": {},
   "outputs": [],
   "source": [
    "height = 224\n",
    "width = 224"
   ]
  },
  {
   "cell_type": "code",
   "execution_count": null,
   "metadata": {},
   "outputs": [],
   "source": [
    "gen = ImageDataGenerator(preprocessing_function=preprocess_input, \n",
    "                             rotation_range=30, \n",
    "                             vertical_flip=True, \n",
    "                             validation_split=0.2)"
   ]
  },
  {
   "cell_type": "code",
   "execution_count": null,
   "metadata": {},
   "outputs": [],
   "source": [
    "testgen = gen.flow_from_dataframe(test,\n",
    "                                  directory='./images/comp/',\n",
    "                                  x_col='fileid',\n",
    "                                  y_col='Type1',\n",
    "                                  class_mode='categorical',\n",
    "                                  target_size=(height, width))"
   ]
  },
  {
   "cell_type": "code",
   "execution_count": null,
   "metadata": {},
   "outputs": [],
   "source": [
    "model = load_model('./checkpoints/ResNet50_model_weights.h5')"
   ]
  },
  {
   "cell_type": "code",
   "execution_count": null,
   "metadata": {},
   "outputs": [],
   "source": [
    "type(model)"
   ]
  },
  {
   "cell_type": "code",
   "execution_count": null,
   "metadata": {},
   "outputs": [],
   "source": [
    "predictions = model.predict_generator(testgen, steps=1250, verbose=1)"
   ]
  },
  {
   "cell_type": "code",
   "execution_count": null,
   "metadata": {},
   "outputs": [],
   "source": [
    "predictions"
   ]
  },
  {
   "cell_type": "code",
   "execution_count": null,
   "metadata": {},
   "outputs": [],
   "source": [
    "N = NUM_EPOCHS\n",
    "plt.style.use(\"ggplot\")\n",
    "plt.figure()\n",
    "plt.plot(np.arange(0, N), H.history[\"loss\"], label=\"train_loss\")\n",
    "plt.plot(np.arange(0, N), H.history[\"val_loss\"], label=\"val_loss\")\n",
    "plt.plot(np.arange(0, N), H.history[\"acc\"], label=\"train_acc\")\n",
    "plt.plot(np.arange(0, N), H.history[\"val_acc\"], label=\"val_acc\")\n",
    "plt.title(\"Training Loss and Accuracy on Dataset\")\n",
    "plt.xlabel(\"Epoch #\")\n",
    "plt.ylabel(\"Loss/Accuracy\")\n",
    "plt.legend(loc=\"lower left\")\n",
    "plt.savefig(\"plot.png\")"
   ]
  },
  {
   "cell_type": "code",
   "execution_count": null,
   "metadata": {},
   "outputs": [],
   "source": [
    "print('Predicted:', decode_predictions(predictions, top=3)[0])\n",
    "np.argmax(pred[0])"
   ]
  },
  {
   "cell_type": "code",
   "execution_count": null,
   "metadata": {},
   "outputs": [],
   "source": [
    "plot_model(model, to_file='model.png')"
   ]
  },
  {
   "cell_type": "code",
   "execution_count": null,
   "metadata": {},
   "outputs": [],
   "source": [
    "import pandas as pd\n",
    "import numpy as np\n",
    "import matplotlib.pyplot as plt\n",
    "from keras.preprocessing.image import ImageDataGenerator\n",
    "from keras.applications.inception_resnet_v2 import InceptionResNetV2, preprocess_input\n",
    "from keras.layers import Dense, Conv2D, Flatten, MaxPooling2D, Dropout, Activation\n",
    "from keras.models import Model, load_model\n",
    "from keras.callbacks import ModelCheckpoint, History\n",
    "from keras.optimizers import Adam\n",
    "\n",
    "data = pd.read_csv('./df_final.csv')\n",
    "\n",
    "height = 224\n",
    "width = 224\n",
    "\n",
    "mask = np.random.rand(len(data)) < 0.8\n",
    "train = data[mask].reset_index(drop=True)\n",
    "test = data[~mask].reset_index(drop=True)\n",
    "\n",
    "pretrainmod = InceptionResNetV2(weights='imagenet', include_top=False, input_shape=(height, width, 3))\n",
    "\n",
    "gen = ImageDataGenerator(preprocessing_function=preprocess_input, rotation_range=30, vertical_flip=True, validation_split=0.2)\n",
    "\n",
    "train_gen = gen.flow_from_dataframe(train,\n",
    "                                    directory='./images/comp/',\n",
    "                                    x_col='fileid',\n",
    "                                    y_col='Type1',\n",
    "                                    class_mode='categorical',\n",
    "                                    target_size=(height, width),\n",
    "                                    subset='training')\n",
    "\n",
    "\n",
    "def build_finetune_model(base_model, dropout, fc_layers, num_classes):\n",
    "    for layer in base_model.layers:\n",
    "        layer.trainable = False\n",
    "\n",
    "    x = base_model.output\n",
    "    x = Flatten()(x)\n",
    "    for fc in fc_layers:\n",
    "        # New FC layer, random init\n",
    "        x = Dense(fc, activation='relu')(x)\n",
    "        x = Dropout(dropout)(x)\n",
    "\n",
    "    # New softmax layer\n",
    "    predictions = Dense(num_classes, activation='softmax')(x)\n",
    "\n",
    "    finetune_model = Model(inputs=base_model.input, outputs=predictions)\n",
    "\n",
    "    return finetune_model\n",
    "\n",
    "\n",
    "class_list = list(data.Type1.unique())\n",
    "FC_LAYERS = [1024, 1024]\n",
    "dropout = 0.5\n",
    "\n",
    "finetune_model = build_finetune_model(pretrainmod,\n",
    "                                      dropout=dropout,\n",
    "                                      fc_layers=FC_LAYERS,\n",
    "                                      num_classes=len(class_list))\n",
    "\n",
    "\n",
    "NUM_EPOCHS = 10\n",
    "BATCH_SIZE = 16\n",
    "num_train_images = 15000\n",
    "\n",
    "adam = Adam(lr=0.00001)\n",
    "finetune_model.compile(adam, loss='categorical_crossentropy', metrics=['accuracy'])\n",
    "\n",
    "filepath = \"./checkpoints/\" + \"ResNet50\" + \"_model_weights.h5\"\n",
    "histpath = \"./checkpoints/\" + \"ResNet50\" + \"_model_history.h5\"\n",
    "checkpoint = ModelCheckpoint(filepath, monitor=[\"acc\"], verbose=1, mode='max')\n",
    "history = History()\n",
    "callbacks_list = [checkpoint, history]\n",
    "\n",
    "history = finetune_model.fit_generator(train_gen, epochs=NUM_EPOCHS, workers=8,\n",
    "                                       steps_per_epoch=num_train_images // BATCH_SIZE,\n",
    "                                       shuffle=True, callbacks=callbacks_list)"
   ]
  },
  {
   "cell_type": "code",
   "execution_count": null,
   "metadata": {},
   "outputs": [],
   "source": []
  }
 ],
 "metadata": {
  "kernelspec": {
   "display_name": "Python 3",
   "language": "python",
   "name": "python3"
  },
  "language_info": {
   "codemirror_mode": {
    "name": "ipython",
    "version": 3
   },
   "file_extension": ".py",
   "mimetype": "text/x-python",
   "name": "python",
   "nbconvert_exporter": "python",
   "pygments_lexer": "ipython3",
   "version": "3.6.5"
  }
 },
 "nbformat": 4,
 "nbformat_minor": 2
}
